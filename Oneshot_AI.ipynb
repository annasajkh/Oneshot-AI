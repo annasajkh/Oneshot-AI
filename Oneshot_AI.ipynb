{
  "nbformat": 4,
  "nbformat_minor": 0,
  "metadata": {
    "colab": {
      "name": "Oneshot AI.ipynb",
      "provenance": [],
      "collapsed_sections": [],
      "toc_visible": true
    },
    "kernelspec": {
      "name": "python3",
      "display_name": "Python 3"
    }
  },
  "cells": [
    {
      "cell_type": "code",
      "metadata": {
        "id": "a2eHkbwDzOWY",
        "colab": {
          "base_uri": "https://localhost:8080/"
        },
        "outputId": "e50b016c-4006-4043-d56d-ccff7a92b918"
      },
      "source": [
        "%tensorflow_version 1.x\n",
        "!pip install -q gpt-2-simple\n",
        "!pip install -q pyunpack\n",
        "!pip install -q patool\n",
        "\n",
        "import os.path\n",
        "from os import path\n",
        "import gpt_2_simple as gpt2\n",
        "from datetime import datetime\n",
        "from google.colab import files\n",
        "import tensorflow as tf\n",
        "import time\n",
        "from pyunpack import Archive\n",
        "\n",
        "\n",
        "if not path.exists(\"checkpoint\"):\n",
        "  !gdown --id 1-7OIaIJ_YbuEHUrZzMl32DOZeOr-Ir2u\n",
        "  Archive(\"checkpoint_run1.tar\").extractall(\".\")\n",
        "\n",
        "if not path.exists(\"models\"):\n",
        "  gpt2.download_gpt2(model_name=\"355M\")\n",
        "\n",
        "tf.reset_default_graph()\n",
        "session = gpt2.start_tf_sess()\n",
        "gpt2.load_gpt2(session, run_name='run1')\n",
        "\n",
        "print(\"generating this may take a while....\")\n",
        "\n",
        "finetune = \"\"\"\"\n",
        "Player:\n",
        "hello niko\n",
        "\n",
        "niko:\n",
        "\n",
        "\"\"\"\n",
        "\n",
        "gpt2.generate(session,\n",
        "              model_name=\"355M\",\n",
        "              length=300, #tokens\n",
        "              prefix=finetune, \n",
        "              temperature=0.7,\n",
        "              nsamples=1,\n",
        "              batch_size=1,\n",
        ")"
      ],
      "execution_count": null,
      "outputs": [
        {
          "output_type": "stream",
          "name": "stdout",
          "text": [
            "TensorFlow 1.x selected.\n",
            "  Building wheel for gpt-2-simple (setup.py) ... \u001b[?25l\u001b[?25hdone\n",
            "\u001b[K     |████████████████████████████████| 77 kB 2.9 MB/s \n",
            "\u001b[?25hWARNING:tensorflow:\n",
            "The TensorFlow contrib module will not be included in TensorFlow 2.0.\n",
            "For more information, please see:\n",
            "  * https://github.com/tensorflow/community/blob/master/rfcs/20180907-contrib-sunset.md\n",
            "  * https://github.com/tensorflow/addons\n",
            "  * https://github.com/tensorflow/io (for I/O related ops)\n",
            "If you depend on functionality not listed there, please file an issue.\n",
            "\n",
            "Downloading...\n",
            "From: https://drive.google.com/uc?id=1-7OIaIJ_YbuEHUrZzMl32DOZeOr-Ir2u\n",
            "To: /content/checkpoint_run1.tar\n",
            "1.43GB [00:10, 143MB/s]\n"
          ]
        }
      ]
    }
  ]
}